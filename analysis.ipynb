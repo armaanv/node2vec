{
 "cells": [
  {
   "cell_type": "code",
   "execution_count": 1,
   "metadata": {},
   "outputs": [],
   "source": [
    "import re"
   ]
  },
  {
   "cell_type": "code",
   "execution_count": 73,
   "metadata": {},
   "outputs": [],
   "source": [
    "import networkx as nx\n",
    "import pandas as pd\n",
    "import numpy as np\n",
    "from sklearn.cluster import KMeans\n",
    "import matplotlib.pyplot as plt\n",
    "import random"
   ]
  },
  {
   "cell_type": "markdown",
   "metadata": {},
   "source": [
    "# Reading the Facebook Graph"
   ]
  },
  {
   "cell_type": "code",
   "execution_count": 5,
   "metadata": {},
   "outputs": [
    {
     "name": "stdout",
     "output_type": "stream",
     "text": [
      "Name: \n",
      "Type: Graph\n",
      "Number of nodes: 4039\n",
      "Number of edges: 88234\n",
      "Average degree:  43.6910\n"
     ]
    },
    {
     "data": {
      "text/plain": [
       "(0.0, 1.0, 0.0, 1.0)"
      ]
     },
     "execution_count": 5,
     "metadata": {},
     "output_type": "execute_result"
    },
    {
     "data": {
      "image/png": "[encoded data removed]",
      "text/plain": [
       "<Figure size 432x288 with 1 Axes>"
      ]
     },
     "metadata": {
      "needs_background": "light"
     },
     "output_type": "display_data"
    }
   ],
   "source": [
    "g = nx.read_edgelist('/Users/user/Desktop/node2vec-master/graph/facebook_combined.txt', create_using=nx.Graph(), nodetype=int)\n",
    "print(nx.info(g))\n",
    "sp=nx.spring_layout(g)\n",
    "plt.axis('off')"
   ]
  },
  {
   "cell_type": "markdown",
   "metadata": {},
   "source": [
    "# Processing the embeddings from Node2Vec"
   ]
  },
  {
   "cell_type": "code",
   "execution_count": 6,
   "metadata": {},
   "outputs": [],
   "source": [
    "all_values = pd.read_csv('facebook.emd')['4039 128'].values\n",
    "fb_dict = {'node_id': [], 'embedding': []}\n",
    "\n",
    "for v in all_values:\n",
    "    v_split = [float(x) for x in v.split(' ')]\n",
    "    fb_dict['embedding'] += [v_split[1:]]\n",
    "    fb_dict['node_id'] += [int(v_split[0])]\n",
    "\n",
    "fb_df = pd.DataFrame.from_dict(fb_dict)"
   ]
  },
  {
   "cell_type": "code",
   "execution_count": 7,
   "metadata": {},
   "outputs": [
    {
     "data": {
      "text/html": [
       "<div>\n",
       "<style scoped>\n",
       "    .dataframe tbody tr th:only-of-type {\n",
       "        vertical-align: middle;\n",
       "    }\n",
       "\n",
       "    .dataframe tbody tr th {\n",
       "        vertical-align: top;\n",
       "    }\n",
       "\n",
       "    .dataframe thead th {\n",
       "        text-align: right;\n",
       "    }\n",
       "</style>\n",
       "<table border=\"1\" class=\"dataframe\">\n",
       "  <thead>\n",
       "    <tr style=\"text-align: right;\">\n",
       "      <th></th>\n",
       "      <th>embedding</th>\n",
       "      <th>node_id</th>\n",
       "    </tr>\n",
       "  </thead>\n",
       "  <tbody>\n",
       "    <tr>\n",
       "      <th>0</th>\n",
       "      <td>[-0.03462, 0.14721, 0.085802, -0.023518, -0.28...</td>\n",
       "      <td>3437</td>\n",
       "    </tr>\n",
       "    <tr>\n",
       "      <th>1</th>\n",
       "      <td>[0.278259, 0.203138, 0.176665, 0.045982, -0.14...</td>\n",
       "      <td>107</td>\n",
       "    </tr>\n",
       "    <tr>\n",
       "      <th>2</th>\n",
       "      <td>[0.357548, -0.144361, 0.40464, 0.335708, -0.14...</td>\n",
       "      <td>1684</td>\n",
       "    </tr>\n",
       "    <tr>\n",
       "      <th>3</th>\n",
       "      <td>[-0.089028, -0.028927, -0.02356, -0.340999, 0....</td>\n",
       "      <td>0</td>\n",
       "    </tr>\n",
       "    <tr>\n",
       "      <th>4</th>\n",
       "      <td>[-0.173345, 0.266669, 0.301875, -0.135857, -0....</td>\n",
       "      <td>1912</td>\n",
       "    </tr>\n",
       "  </tbody>\n",
       "</table>\n",
       "</div>"
      ],
      "text/plain": [
       "                                           embedding  node_id\n",
       "0  [-0.03462, 0.14721, 0.085802, -0.023518, -0.28...     3437\n",
       "1  [0.278259, 0.203138, 0.176665, 0.045982, -0.14...      107\n",
       "2  [0.357548, -0.144361, 0.40464, 0.335708, -0.14...     1684\n",
       "3  [-0.089028, -0.028927, -0.02356, -0.340999, 0....        0\n",
       "4  [-0.173345, 0.266669, 0.301875, -0.135857, -0....     1912"
      ]
     },
     "execution_count": 7,
     "metadata": {},
     "output_type": "execute_result"
    }
   ],
   "source": [
    "fb_df.head()"
   ]
  },
  {
   "cell_type": "markdown",
   "metadata": {},
   "source": [
    "## Experiment 1: Clustering"
   ]
  },
  {
   "cell_type": "markdown",
   "metadata": {},
   "source": [
    "### Q1: Are the nodes who took the survey the k-means center of the embedding space?"
   ]
  },
  {
   "cell_type": "code",
   "execution_count": 8,
   "metadata": {},
   "outputs": [],
   "source": [
    "embeddings_X = np.array([np.array(x) for x in fb_df['embedding'].values])\n",
    "kmeans = KMeans(n_clusters=10, random_state=0).fit(embeddings_X)\n",
    "centroids = {}\n",
    "for i in range(len(kmeans.cluster_centers_)):\n",
    "    c_id = 'c_id_' + str(i)\n",
    "    centroids[c_id] = []\n",
    "    for e in fb_df['embedding'].values:\n",
    "        centroids[c_id] += [np.linalg.norm(kmeans.cluster_centers_[i] - e)]"
   ]
  },
  {
   "cell_type": "code",
   "execution_count": 9,
   "metadata": {},
   "outputs": [],
   "source": [
    "centroids = {}\n",
    "for i in range(len(kmeans.cluster_centers_)):\n",
    "    c_id = 'c_id_' + str(i)\n",
    "    centroids[c_id] = []\n",
    "    for e in fb_df['embedding'].values:\n",
    "        centroids[c_id] += [np.linalg.norm(kmeans.cluster_centers_[i] - e)]\n",
    "for k in centroids.keys():\n",
    "    fb_df[k] = centroids[k]"
   ]
  },
  {
   "cell_type": "code",
   "execution_count": 10,
   "metadata": {},
   "outputs": [
    {
     "data": {
      "text/plain": [
       "dict_values([761, 2530, 1775, 206, 3746, 3163, 3323, 1147, 558, 3996])"
      ]
     },
     "execution_count": 10,
     "metadata": {},
     "output_type": "execute_result"
    }
   ],
   "source": [
    "cluster_to_node = {}\n",
    "for label in fb_df.dtypes.index.values:\n",
    "    if 'c_id' in label:\n",
    "        cluster_to_node[label] = fb_df.sort_values(label)['node_id'].values[0]\n",
    "cluster_to_node.values()"
   ]
  },
  {
   "cell_type": "code",
   "execution_count": 11,
   "metadata": {},
   "outputs": [
    {
     "data": {
      "text/plain": [
       "{'c_id_0': 3323,\n",
       " 'c_id_1': 206,\n",
       " 'c_id_2': 3746,\n",
       " 'c_id_3': 2530,\n",
       " 'c_id_4': 1147,\n",
       " 'c_id_5': 761,\n",
       " 'c_id_6': 558,\n",
       " 'c_id_7': 3163,\n",
       " 'c_id_8': 3996,\n",
       " 'c_id_9': 1775}"
      ]
     },
     "execution_count": 11,
     "metadata": {},
     "output_type": "execute_result"
    }
   ],
   "source": [
    "cluster_to_node"
   ]
  },
  {
   "cell_type": "code",
   "execution_count": 12,
   "metadata": {},
   "outputs": [
    {
     "data": {
      "text/plain": [
       "[107, 1684, 1912, 3437, 0, 348, 3980, 414, 686, 698]"
      ]
     },
     "execution_count": 12,
     "metadata": {},
     "output_type": "execute_result"
    }
   ],
   "source": [
    "survey_nodes = [107, 1684, 1912, 3437, 0, 348, 3980, 414, 686, 698]\n",
    "survey_nodes"
   ]
  },
  {
   "cell_type": "markdown",
   "metadata": {},
   "source": [
    "### Q2: Are the nodes who took the survey significantly closer to a centers than other nodes ?"
   ]
  },
  {
   "cell_type": "code",
   "execution_count": 13,
   "metadata": {},
   "outputs": [],
   "source": [
    "def node_dist(emb1, emb2):\n",
    "    return np.linalg.norm(emb1 - emb2)"
   ]
  },
  {
   "cell_type": "code",
   "execution_count": 63,
   "metadata": {},
   "outputs": [],
   "source": [
    "survey_to_centroid = []\n",
    "for node in survey_nodes:\n",
    "    node_emb = fb_df.loc[fb_df['node_id'] == node]['embedding'].values[0]\n",
    "    survey_to_centroid += [min([node_dist(node_emb, centroid_i) for centroid_i in kmeans.cluster_centers_])]"
   ]
  },
  {
   "cell_type": "code",
   "execution_count": 92,
   "metadata": {},
   "outputs": [],
   "source": [
    "average_to_centroid = []\n",
    "\n",
    "for boot_strap in range(1000):\n",
    "    # sampling random nodes\n",
    "    random_nodes = []\n",
    "    while len(random_nodes) != 10:\n",
    "        r_node = random.choice(fb_df['node_id'].values)\n",
    "        if r_node not in survey_nodes:\n",
    "            random_nodes += [r_node]\n",
    "\n",
    "    # measuring average distance to closest centroid\n",
    "    random_to_centroid = []\n",
    "    for node in random_nodes:\n",
    "        node_emb = fb_df.loc[fb_df['node_id'] == node]['embedding'].values[0]\n",
    "        random_to_centroid += [min([node_dist(node_emb, centroid_i) for centroid_i in kmeans.cluster_centers_])]\n",
    "\n",
    "    average_to_centroid += [np.mean(random_to_centroid)]"
   ]
  },
  {
   "cell_type": "code",
   "execution_count": 93,
   "metadata": {},
   "outputs": [
    {
     "data": {
      "text/plain": [
       "0.245"
      ]
     },
     "execution_count": 93,
     "metadata": {},
     "output_type": "execute_result"
    }
   ],
   "source": [
    "# p-value of the Null Hypothesis: survey nodes are closer to the centroids that other nodes\n",
    "p_value = np.mean(np.mean(survey_to_centroid) < average_to_centroid)\n",
    "p_value"
   ]
  },
  {
   "cell_type": "markdown",
   "metadata": {},
   "source": [
    "## Experiment 2: Semantic interpretation of Embeddings"
   ]
  },
  {
   "cell_type": "code",
   "execution_count": 110,
   "metadata": {},
   "outputs": [],
   "source": [
    "def node_sum(node1, node2):\n",
    "    \"\"\"Takes in two nodes and returns the node whose embedding is closest to the sum of their embeddings\"\"\"\n",
    "    node1_e = np.array(fb_df.loc[fb_df['node_id'] == node1]['embedding'].values[0])\n",
    "    node2_e = np.array(fb_df.loc[fb_df['node_id'] == node2]['embedding'].values[0])\n",
    "    sum_n1_n2 = node1_e + node2_e\n",
    "    fb_df['dist to n12'] = [node_dist(sum_n1_n2, n) for n in fb_df['embedding'].values]\n",
    "    closest_node = fb_df.sort_values('dist to n12')['node_id'].values[0]\n",
    "    return closest_node"
   ]
  }
 ],
 "metadata": {
  "kernelspec": {
   "display_name": "Python [default]",
   "language": "python",
   "name": "python3"
  },
  "language_info": {
   "codemirror_mode": {
    "name": "ipython",
    "version": 3
   },
   "file_extension": ".py",
   "mimetype": "text/x-python",
   "name": "python",
   "nbconvert_exporter": "python",
   "pygments_lexer": "ipython3",
   "version": "3.5.6"
  }
 },
 "nbformat": 4,
 "nbformat_minor": 2
}
